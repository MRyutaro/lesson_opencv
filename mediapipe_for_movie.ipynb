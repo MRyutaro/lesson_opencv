{
  "nbformat": 4,
  "nbformat_minor": 0,
  "metadata": {
    "colab": {
      "name": "mediapipe_for_movie",
      "provenance": [],
      "collapsed_sections": [],
      "include_colab_link": true
    },
    "kernelspec": {
      "display_name": "Python 3",
      "name": "python3"
    }
  },
  "cells": [
    {
      "cell_type": "markdown",
      "metadata": {
        "id": "view-in-github",
        "colab_type": "text"
      },
      "source": [
        "<a href=\"https://colab.research.google.com/github/cedro3/mediapipe/blob/main/mediapipe_for_movie.ipynb\" target=\"_parent\"><img src=\"https://colab.research.google.com/assets/colab-badge.svg\" alt=\"Open In Colab\"/></a>"
      ]
    },
    {
      "cell_type": "markdown",
      "metadata": {
        "id": "D2PlazN5Q94l"
      },
      "source": [
        "# セットアップ"
      ]
    },
    {
      "cell_type": "code",
      "metadata": {
        "id": "AuQfLvpuJkb0"
      },
      "source": [
        "# ライブラリーのインストール\n",
        "!pip install numpy==1.19.3\n",
        "!pip install mediapipe\n",
        "\n",
        "# github からコードをコピー\n",
        "!git clone https://github.com/cedro3/mediapipe.git\n",
        "%cd mediapipe/"
      ],
      "execution_count": null,
      "outputs": []
    },
    {
      "cell_type": "code",
      "metadata": {
        "id": "BboTB-FAMfPo"
      },
      "source": [
        "# 初期設定\n",
        "import mediapipe as mp\n",
        "mp_holistic = mp.solutions.holistic\n",
        "\n",
        "# Initialize MediaPipe Holistic.\n",
        "holistic = mp_holistic.Holistic(\n",
        "    static_image_mode=True, min_detection_confidence=0.5)\n",
        "\n",
        "# Prepare DrawingSpec for drawing the face landmarks later.\n",
        "mp_drawing = mp.solutions.drawing_utils \n",
        "drawing_spec = mp_drawing.DrawingSpec(thickness=1, circle_radius=1)"
      ],
      "execution_count": null,
      "outputs": []
    },
    {
      "cell_type": "markdown",
      "metadata": {
        "id": "O8b1g8OQXTyp"
      },
      "source": [
        "# サンプルビデオの読み込み＋静止画に分解"
      ]
    },
    {
      "cell_type": "code",
      "metadata": {
        "id": "tZ2_jEHnGdS0"
      },
      "source": [
        "# ビデオの指定\n",
        "video_path = './video/mana.mp4'"
      ],
      "execution_count": null,
      "outputs": []
    },
    {
      "cell_type": "code",
      "metadata": {
        "id": "SZkGG8X4tB-e"
      },
      "source": [
        "# video2images\n",
        "import os\n",
        "import shutil\n",
        "import cv2\n",
        "\n",
        "# 既にimagesフォルダーがあれば削除\n",
        "if os.path.isdir('images'):\n",
        "    shutil.rmtree('images')\n",
        "\n",
        "os.makedirs('images', exist_ok=True)\n",
        " \n",
        "def video_2_images(video_file= video_path,   \n",
        "                   image_dir='./images/', \n",
        "                   image_file='img_%s.png'):\n",
        " \n",
        "    # Initial setting\n",
        "    i = 0\n",
        "    interval = 3\n",
        "    length = 300\n",
        "    \n",
        "    cap = cv2.VideoCapture(video_file)\n",
        "    while(cap.isOpened()):\n",
        "        flag, frame = cap.read()  \n",
        "        if flag == False:  \n",
        "                break\n",
        "        if i == length*interval:\n",
        "                break\n",
        "        if i % interval == 0:    \n",
        "           cv2.imwrite(image_dir+image_file % str(i).zfill(6), frame)\n",
        "        i += 1 \n",
        "    cap.release()  \n",
        " \n",
        "def main():\n",
        "    video_2_images()\n",
        "    \n",
        "if __name__ == '__main__':\n",
        "    main()"
      ],
      "execution_count": null,
      "outputs": []
    },
    {
      "cell_type": "markdown",
      "metadata": {
        "id": "RFbsbDmFX22w"
      },
      "source": [
        "# MediaPipeで静止画を処理"
      ]
    },
    {
      "cell_type": "code",
      "metadata": {
        "id": "Fs2IYWOGtCGj"
      },
      "source": [
        "import cv2\n",
        "from google.colab.patches import cv2_imshow\n",
        "import numpy as np\n",
        "import glob\n",
        "\n",
        "# image file names to files in list format\n",
        "files=[]\n",
        "for name in sorted(glob.glob('./images/*.png')):\n",
        "    files.append(name)\n",
        "\n",
        "# Read images with OpenCV.\n",
        "images = {name: cv2.imread(name) for name in files}\n",
        "\n",
        "for name, image in images.items():\n",
        "  # Convert the BGR image to RGB and process it with MediaPipe Pose.\n",
        "  results = holistic.process(cv2.cvtColor(image, cv2.COLOR_BGR2RGB))\n",
        "\n",
        "  # Draw pose landmarks.\n",
        "  annotated_image = image.copy()\n",
        "  mp_drawing.draw_landmarks(annotated_image, results.left_hand_landmarks, mp_holistic.HAND_CONNECTIONS)\n",
        "  mp_drawing.draw_landmarks(annotated_image, results.right_hand_landmarks, mp_holistic.HAND_CONNECTIONS)\n",
        "  mp_drawing.draw_landmarks(\n",
        "      image=annotated_image, \n",
        "      landmark_list=results.face_landmarks, \n",
        "      connections=mp_holistic.FACE_CONNECTIONS,\n",
        "      landmark_drawing_spec=drawing_spec,\n",
        "      connection_drawing_spec=drawing_spec)\n",
        "  mp_drawing.draw_landmarks(\n",
        "      image=annotated_image, \n",
        "      landmark_list=results.pose_landmarks, \n",
        "      connections=mp_holistic.POSE_CONNECTIONS,\n",
        "      landmark_drawing_spec=drawing_spec,\n",
        "      connection_drawing_spec=drawing_spec)\n",
        "  cv2.imwrite(name, annotated_image)  "
      ],
      "execution_count": null,
      "outputs": []
    },
    {
      "cell_type": "markdown",
      "metadata": {
        "id": "ZB4-PSrhYDd-"
      },
      "source": [
        "# 処理した画像をgif動画に変換"
      ]
    },
    {
      "cell_type": "code",
      "metadata": {
        "id": "XXBlF0W3xvfn"
      },
      "source": [
        "# images2gif\n",
        "from PIL import Image\n",
        "import glob\n",
        " \n",
        "files = sorted(glob.glob('./images/*.png'))\n",
        "images = list(map(lambda file: Image.open(file), files))\n",
        "images[0].save('./out.gif', save_all=True, \n",
        "               append_images=images[1:], \n",
        "               duration=100, loop=0)"
      ],
      "execution_count": null,
      "outputs": []
    },
    {
      "cell_type": "code",
      "metadata": {
        "id": "LEyWNIjp07Yq"
      },
      "source": [
        "# display gif\n",
        "from IPython.display import Image\n",
        "Image('./out.gif', format='png')"
      ],
      "execution_count": null,
      "outputs": []
    }
  ]
}